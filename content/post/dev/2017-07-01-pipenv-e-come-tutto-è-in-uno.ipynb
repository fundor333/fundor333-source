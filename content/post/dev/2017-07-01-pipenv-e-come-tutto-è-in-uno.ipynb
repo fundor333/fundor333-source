{
 "cells": [
  {
   "cell_type": "markdown",
   "metadata": {},
   "source": [
    "# E cos'è PipEnv"
   ]
  },
  {
   "cell_type": "markdown",
   "metadata": {},
   "source": [
    "Io sono un appassionato di podcast. Mi piace ascoltarli quando vado in giro e quando vado in palestra. E uno di questi è quello di [Kenneth Reitz](https://www.kennethreitz.org/), autore di svariati moduli python tra cui _Requests_ che tutti i pythonisti conoscono e usano. \n",
    "L'ultimo progetto suo di mio interesse è PipEnv, _sacro matrimonio di pipfile, pip e virtualenv_."
   ]
  },
  {
   "cell_type": "markdown",
   "metadata": {},
   "source": [
    "Partiamo dalla base: per fare un progetto python solitamente si passano 3 fasi obligatorie\n",
    "\n",
    "* Si crea un _virtualenv_ su cui lavorare, in cui i pacchetti installati non vanno in conflitto con quelli nel sistema ottenendo così un ambiente pulito su cui lavorare\n",
    "* Si fa una selezione dei moduli necessari per il progetto e li si installa nel _virtualenv_ attraverso _pip_\n",
    "* Si produce dal _virtualenv_ un file di _requirements.txt_ che indica cosa è installato \n",
    "\n",
    "Questo porta a dover tenere sempre aggiornato e pulito il _virtualenv_, sempre aggiornato il file _requirements.txt_ e fissare le versioni minime richieste (o addirittura la versione stessa) del modulo nel _requirements.txt_.\n",
    "\n",
    "PipEnv di conseguenza fa tutto questo per te con pochi e semplici comandi."
   ]
  },
  {
   "cell_type": "markdown",
   "metadata": {},
   "source": [
    "## Ad esempio?"
   ]
  },
  {
   "cell_type": "markdown",
   "metadata": {},
   "source": [
    "Mettiamo caso che io debba creare uno script in python che mi recuperi dei feed rss e me li salvi in locale. \n",
    "\n",
    "* Creo una cartella per il progetto, in modo da metterci tutto quello di cui ho bisogno\n",
    "    \n",
    "        mkdir progetto_python\n",
    "\n",
    "* Scelgo che versione di python usare, se quella corrente o quella _legacy_\n",
    "\n",
    "        pipenv --three #versione corrente di python 3.x\n",
    "        # alternativamente\n",
    "        pipenv --two #legacy 2.7.x\n",
    "\n",
    "* Inizio a scrivere codice e a installare pacchetti necessari per il progetto\n",
    "\n",
    "        pipenv install request\n",
    "        pipenv install flask\n",
    "\n",
    "Questi comandi assieme a quello iniziale, mi permette di creare un _pipfile_ che descrive i moduli da me installati. La cosa più bella di questo _pipfile_ è che permette di avere più \"ambienti\" indicati nello stesso file. Questo significa che posso avere \"testing\", \"travis\", \"dev\" e \"prod\" tutti descritti in un unico file e gestiti in modo automatico.\n",
    "\n",
    "Quindi mi accordo che  _flask_ non mi serve più perchè ho riscritto tutto in modo da non usarlo e rendere in codice più leggibile... Quindi cosa faccio?\n",
    "\n",
    "        pipenv uninstall flask\n",
    "\n",
    "Questo comando elimina dal _pipfile_ flask rendendolo così \"pulito\" e sempre aggiornato.\n",
    "\n",
    "Una volta definito il _pipfile_ bisogna creare il _pipfile.lock_, ovvero una versione automatica, generata dall' \"installazione corrente\" in modo da riprodurre perfettamente l'ambiente.\n",
    "        \n",
    "        pipenv lock\n",
    "        \n",
    "Questo fissa i moduli installati con versione, hash e altri dati sia per i pacchetti indicati sia che con le loro dipendenze, in modo da ottenere tutte le indicazioni per riprodurre quel esatto ambiente."
   ]
  },
  {
   "cell_type": "markdown",
   "metadata": {},
   "source": [
    "# Tutto qui?"
   ]
  },
  {
   "cell_type": "markdown",
   "metadata": {},
   "source": [
    "No, il sistema crea all'inizio un _virtualenv_ per il progetto e lo popola secondo le indicazioni passate dal terminale. \n",
    "Questo ambiente virtuale è accessibile attraverso il comando \n",
    "\n",
    "        pipenv shell\n",
    "        \n",
    "che apre una shell nel _virtualenv_ del progetto e permette di eseguire comandi nella stessa _virtualenv_.\n",
    "\n",
    "In oltre _PipEnv_ permette di convertire, se non presenti, i _requirements.txt_ in _pipfile_ e di aggiornare tutti i pacchetti attraverso\n",
    "\n",
    "        pipenv update"
   ]
  },
  {
   "cell_type": "markdown",
   "metadata": {},
   "source": [
    "## Conclusione"
   ]
  },
  {
   "cell_type": "markdown",
   "metadata": {},
   "source": [
    "Personalmente spero che questo sistema, o per lo meno _pipfile_, diventi lo standard per lo sviluppo di applicazioni python e soppianti i file _requirements.txt_ che trovo particolarmente poco pratici e troppo sintetici anche se fanno esattamente quello per cui sono stati pensati"
   ]
  }
 ],
 "metadata": {
  "kernelspec": {
   "display_name": "Python 3",
   "language": "python",
   "name": "python3"
  },
  "language_info": {
   "codemirror_mode": {
    "name": "ipython",
    "version": 3
   },
   "file_extension": ".py",
   "mimetype": "text/x-python",
   "name": "python",
   "nbconvert_exporter": "python",
   "pygments_lexer": "ipython3",
   "version": "3.5.2"
  }
 },
 "nbformat": 4,
 "nbformat_minor": 2
}
