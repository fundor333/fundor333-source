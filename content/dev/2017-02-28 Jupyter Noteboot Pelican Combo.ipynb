{
 "cells": [
  {
   "cell_type": "markdown",
   "metadata": {
    "deletable": true,
    "editable": true
   },
   "source": [
    "Si sta avvicinando il **Pycon 8** e io ci parteciperò. Questo vuol dire che ho raccolto i soldi e sto preparando la strumentazione necessaria per quest' anno. \n",
    "Visto quello che è successo l'anno scorso ho deciso di preinstallate Jupyter e essere pronto a fare degli appunti direttamente in notebook. Per questo ho cercato un sistema per convertirli in markdown, così da usarli anche nel blog, o farli leggere direttamente da Pelican e ho fatto una stupenda scoperta: esiste già questo plugin.\n",
    "<!--more-->"
   ]
  },
  {
   "cell_type": "markdown",
   "metadata": {
    "collapsed": false,
    "deletable": true,
    "editable": true
   },
   "source": [
    "Per rendererizzare i file _.ipynb_ è necessario aver installato il plugin _pelican-ipynb_ e settato i metadati del _.ipynb_ coi i metadata corretti:\n",
    "\n",
    "* _Title_ titolo del post\n",
    "* _Slug_ indirizzo del post\n",
    "* _Date_ data di publicazione del post\n",
    "* _Category_ categoria del post\n",
    "* _Tags_ tag del post\n",
    "* _Author_ autore del post\n",
    "* _Summary_ riassunto del post\n",
    "\n",
    "e settare i tipi di markup supportato con\n",
    "\n",
    "    MARKUP = ('md', 'ipynb')\n",
    "\n",
    "facendoli vedere così i file _.ipynb_ come file da eseguire e visualizzare come post.\n",
    "\n",
    "L'unico difetto di questo plugin è che che non supporta, _per ora_, il metadata _Status_."
   ]
  },
  {
   "cell_type": "markdown",
   "metadata": {},
   "source": [
    "# E quindi funziona?\n",
    "E si arriva alla domanda fondamentale: \"Funziona?\" La risposta è si, funziona."
   ]
  },
  {
   "cell_type": "code",
   "execution_count": 1,
   "metadata": {
    "collapsed": false,
    "deletable": true,
    "editable": true
   },
   "outputs": [
    {
     "name": "stdout",
     "output_type": "stream",
     "text": [
      "Hello world!\n"
     ]
    }
   ],
   "source": [
    "print('Hello world!')"
   ]
  },
  {
   "cell_type": "markdown",
   "metadata": {
    "collapsed": true,
    "deletable": true,
    "editable": true
   },
   "source": [
    "Come vedete nel blocco di codice sopra è funzionante e permette di fare tutto quello che normalmente faresti con Jupyter."
   ]
  },
  {
   "cell_type": "code",
   "execution_count": 2,
   "metadata": {
    "collapsed": true
   },
   "outputs": [],
   "source": [
    "columnA = ['Temporary','Intermittant','Partial','Redundant','Total',\n",
    "\t'Multiplexed','Inherent','Duplicated','Dual-Homed','Synchronous',\n",
    "\t'Bidirectional','Serial','Asynchronous','Multiple','Replicated',\n",
    "\t'Non-Replicated','Unregistered','Non-Specific','Generic','Migrated',\n",
    "\t'Localised','Resignalled','Dereferenced','Nullified','Aborted','Serious',\n",
    "\t'Minor','Major','Extraneous','Illegal','Insufficient','Viral',\n",
    "\t'Unsupported','Outmoded','Legacy','Permanent','Invalid','Deprecated',\n",
    "\t'Virtual','Unreportable','Undetermined','Undiagnosable','Unfiltered',\n",
    "\t'Static','Dynamic','Delayed','Immediate','Nonfatal','Fatal','Non-Valid',\n",
    "\t'Unvalidated','Non-Static','Unreplicatable','Non-Serious']\n",
    "columnB = ['Array','Systems','Hardware','Software','Firmware','Backplane',\n",
    "\t'Logic-Subsystem','Integrity','Subsystem','Memory','Comms','Integrity',\n",
    "\t'Checksum','Protocol','Parity','Bus','Timing','Synchronisation','Topology',\n",
    "\t'Transmission','Reception','Stack','Framing','Code','Programming',\n",
    "\t'Peripheral','Environmental','Loading','Operation','Parameter','Syntax',\n",
    "\t'Initialisation','Execution','Resource','Encryption','Decryption','File',\n",
    "\t'Precondition','Authentication','Paging','Swapfile','Service','Gateway',\n",
    "\t'Request','Proxy','Media','Registry','Configuration','Metadata',\n",
    "\t'Streaming','Retrieval','Installation','Library','Handler']\n",
    "columnC = ['Interruption','Destabilisation','Destruction','Desynchronisation',\n",
    "\t'Failure','Dereferencing','Overflow','Underflow','NMI','Interrupt',\n",
    "\t'Corruption','Anomaly','Seizure','Override','Reclock','Rejection',\n",
    "\t'Invalidation','Halt','Exhaustion','Infection','Incompatibility',\n",
    "\t'Timeout','Expiry','Unavailability','Bug','Condition','Crash','Dump',\n",
    "\t'Crashdump','Stackdump','Problem','Lockout']\n",
    "columnD = ['Error','Problem','Warning','Signal','Flag']"
   ]
  },
  {
   "cell_type": "code",
   "execution_count": 3,
   "metadata": {
    "collapsed": false
   },
   "outputs": [
    {
     "name": "stdout",
     "output_type": "stream",
     "text": [
      "Today's issue is: Duplicated Proxy Overflow \n"
     ]
    }
   ],
   "source": [
    "from random import randint\n",
    "\n",
    "bofhExcuse = columnA[randint(0,len(columnA)-1)]+' '\n",
    "bofhExcuse += columnB[randint(0,len(columnB)-1)]+' '\n",
    "bofhExcuse += columnC[randint(0,len(columnC)-1)]+' '\n",
    "if(randint(0,100) > 80):\n",
    "\tbofhExcuse += columnD[randint(0,len(columnD)-1)]\n",
    "print 'Today\\'s issue is: '+bofhExcuse"
   ]
  }
 ],
 "metadata": {
  "Date": "2017-02-28",
  "Tags": "pelican,jupyter notebook",
  "Title": "Jupyter Notebook Pelican Combo",
  "Category": "dev",
  "kernelspec": {
   "display_name": "Python 2",
   "language": "python",
   "name": "python2"
  },
  "language_info": {
   "codemirror_mode": {
    "name": "ipython",
    "version": 2.0
   },
   "file_extension": ".py",
   "mimetype": "text/x-python",
   "name": "python",
   "nbconvert_exporter": "python",
   "pygments_lexer": "ipython2",
   "version": "2.7.12"
  },
  "name": "Jupyter Notebook Pelican Combo",
  "slug": "jupyter-notebook-pelican-combo"
 },
 "nbformat": 4,
 "nbformat_minor": 0
}